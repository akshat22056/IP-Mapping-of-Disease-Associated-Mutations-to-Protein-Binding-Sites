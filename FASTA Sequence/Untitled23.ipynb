{
  "cells": [
    {
      "cell_type": "code",
      "execution_count": null,
      "metadata": {
        "colab": {
          "base_uri": "https://localhost:8080/"
        },
        "id": "MK3FFfS7W-x4",
        "outputId": "913b9331-08a9-45f4-e478-d3a3f7ed6816"
      },
      "outputs": [
        {
          "name": "stdout",
          "output_type": "stream",
          "text": [
            "Invalid mutations saved to 'invalid_mutations.csv'\n"
          ]
        }
      ],
      "source": [
        "import pandas as pd\n",
        "import re\n",
        "\n",
        "# Load your CSV\n",
        "df = pd.read_csv(\"main_updated_with_fasta_sequences.csv\")  # Replace with your actual file name\n",
        "\n",
        "invalid_mutation_data = []\n",
        "\n",
        "for idx, row in df.iterrows():\n",
        "    gene = row['GENE_NAME']\n",
        "    uniprot_id = row['UniProt_ID']\n",
        "    fasta_seq = str(row['FASTA_SEQUENCE']).strip()\n",
        "    mutation_str = str(row['MUTATION_AA'])\n",
        "\n",
        "    invalid_mutations = []\n",
        "\n",
        "    # Split mutations by '|'\n",
        "    mutations = [mut.strip() for mut in mutation_str.split('|') if mut.strip().startswith('p.')]\n",
        "\n",
        "    for mut in mutations:\n",
        "        match = re.match(r\"p\\.([A-Z])(\\d+)([A-Z=])?\", mut)\n",
        "        if match:\n",
        "            original_aa = match.group(1)\n",
        "            pos = int(match.group(2))\n",
        "\n",
        "            # Make sure position is within range of the sequence\n",
        "            if 1 <= pos <= len(fasta_seq):\n",
        "                actual_aa = fasta_seq[pos - 1]  # 0-based index\n",
        "                if actual_aa != original_aa:\n",
        "                    invalid_mutations.append(mut)\n",
        "            else:\n",
        "                invalid_mutations.append(mut)\n",
        "\n",
        "    if invalid_mutations:\n",
        "        invalid_mutation_data.append({\n",
        "            'GENE_NAME': gene,\n",
        "            'UniProt_ID': uniprot_id,\n",
        "            'Invalid_Mutations': ' | '.join(invalid_mutations)\n",
        "        })\n",
        "\n",
        "# Save to CSV\n",
        "invalid_df = pd.DataFrame(invalid_mutation_data)\n",
        "invalid_df.to_csv(\"invalid_mutations.csv\", index=False)\n",
        "print(\"Invalid mutations saved to 'invalid_mutations.csv'\")\n"
      ]
    },
    {
      "cell_type": "code",
      "execution_count": null,
      "metadata": {
        "id": "-dRCchc8ZnWl"
      },
      "outputs": [],
      "source": [
        "import pandas as pd\n",
        "\n",
        "# Load both files\n",
        "main_df = pd.read_csv(\"main_updated_with_fasta_sequences.csv\")\n",
        "invalid_df = pd.read_csv(\"invalid_mutations.csv\")\n",
        "\n",
        "# Clean up mutations in main_df\n",
        "for _, row in invalid_df.iterrows():\n",
        "    gene = row['GENE_NAME']\n",
        "    invalid_mutations = [mut.strip() for mut in row['Invalid_Mutations'].split('|') if mut.strip()]\n",
        "\n",
        "    # Find matching gene row in main_df\n",
        "    main_mask = main_df['GENE_NAME'] == gene\n",
        "    if main_mask.any():\n",
        "        current_mutations = main_df.loc[main_mask, 'MUTATION_AA'].values[0]\n",
        "        current_mutations_list = [mut.strip() for mut in current_mutations.split('|') if mut.strip()]\n",
        "\n",
        "        # Remove invalid ones\n",
        "        updated_mutations = [m for m in current_mutations_list if m not in invalid_mutations]\n",
        "        updated_mutation_str = ' | '.join(updated_mutations)\n",
        "\n",
        "        # Update the value in main_df\n",
        "        main_df.loc[main_mask, 'MUTATION_AA'] = updated_mutation_str\n",
        "\n",
        "# Save cleaned result\n",
        "main_df.to_csv(\"main_cleaned_fasta_sequences.csv\", index=False)\n"
      ]
    },
    {
      "cell_type": "code",
      "execution_count": null,
      "metadata": {
        "colab": {
          "base_uri": "https://localhost:8080/"
        },
        "id": "A7os5-lCamyc",
        "outputId": "6d3e7c7f-cf17-47c5-afd3-1a7ce703473b"
      },
      "outputs": [
        {
          "name": "stdout",
          "output_type": "stream",
          "text": [
            "Comparison report saved as 'mutation_cleaning_report.csv'\n"
          ]
        }
      ],
      "source": [
        "import pandas as pd\n",
        "\n",
        "# Load original and cleaned CSVs\n",
        "original_df = pd.read_csv(\"main_updated_with_fasta_sequences.csv\")\n",
        "cleaned_df = pd.read_csv(\"main_cleaned_fasta_sequences.csv\")\n",
        "\n",
        "# Count mutations in each row for both files\n",
        "original_df['Original_Count'] = original_df['MUTATION_AA'].apply(lambda x: len([m for m in str(x).split('|') if m.strip()]))\n",
        "cleaned_df['Cleaned_Count'] = cleaned_df['MUTATION_AA'].apply(lambda x: len([m for m in str(x).split('|') if m.strip()]))\n",
        "\n",
        "# Merge counts for comparison\n",
        "comparison_df = original_df[['GENE_NAME', 'Original_Count']].merge(\n",
        "    cleaned_df[['GENE_NAME', 'Cleaned_Count']], on='GENE_NAME', how='left'\n",
        ")\n",
        "\n",
        "# Calculate how many mutations were removed\n",
        "comparison_df['Mutations_Removed'] = comparison_df['Original_Count'] - comparison_df['Cleaned_Count']\n",
        "\n",
        "# Save the comparison report\n",
        "comparison_df.to_csv(\"mutation_cleaning_report.csv\", index=False)\n",
        "\n",
        "print(\"Comparison report saved as 'mutation_cleaning_report.csv'\")\n"
      ]
    },
    {
      "cell_type": "code",
      "execution_count": null,
      "metadata": {
        "colab": {
          "base_uri": "https://localhost:8080/"
        },
        "id": "ouIoQeT6hQZ-",
        "outputId": "76071867-275e-42ee-d37d-0b16dd1e3849"
      },
      "outputs": [
        {
          "name": "stdout",
          "output_type": "stream",
          "text": [
            "Number of genes with 5 or more positions: 2412\n"
          ]
        }
      ],
      "source": [
        "import pandas as pd\n",
        "\n",
        "# Load your CSV file\n",
        "df = pd.read_csv(\"main_updated_with_fasta_sequences.csv\")\n",
        "\n",
        "# Define position columns (Position_1 to Position_20)\n",
        "position_cols = [f'Position_{i}' for i in range(1, 21)]\n",
        "\n",
        "# Function to count valid positions (non-NaN) for each gene\n",
        "df['Valid_Positions'] = df[position_cols].notna().sum(axis=1)\n",
        "\n",
        "# Filter rows where the number of valid positions is greater than or equal to 5\n",
        "filtered_df = df[df['Valid_Positions'] >= 5]\n",
        "\n",
        "# Save the filtered data to a new CSV file\n",
        "filtered_df.to_csv(\"filtered_gene_data.csv\", index=False)\n",
        "\n",
        "# Optional: Print the number of genes remaining\n",
        "print(f\"Number of genes with 5 or more positions: {filtered_df.shape[0]}\")\n"
      ]
    },
    {
      "cell_type": "code",
      "execution_count": null,
      "metadata": {
        "colab": {
          "base_uri": "https://localhost:8080/",
          "height": 435
        },
        "id": "hKR5Hc9yywVQ",
        "outputId": "0ffbc4fa-452b-4958-9f1e-cd222ced9afd"
      },
      "outputs": [],
      "source": [
        "import pandas as pd\n",
        "import matplotlib.pyplot as plt\n",
        "import seaborn as sns\n",
        "import re\n",
        "\n",
        "# Load the CSV\n",
        "df = pd.read_csv(\"filtered_gene_data.csv\")\n",
        "\n",
        "# Binding site position columns\n",
        "position_cols = [f'Position_{i}' for i in range(1, 21)]\n",
        "\n",
        "# --- Helper: Parse each position entry into a list of ints ---\n",
        "def parse_position(pos):\n",
        "    if pd.isna(pos):\n",
        "        return []\n",
        "    if isinstance(pos, str) and '-' in pos:\n",
        "        try:\n",
        "            start, end = map(int, pos.strip().split('-'))\n",
        "            return list(range(start, end + 1))\n",
        "        except:\n",
        "            return []\n",
        "    try:\n",
        "        return [int(float(pos))]\n",
        "    except:\n",
        "        return []\n",
        "\n",
        "# --- Helper: Extract all mutation positions from the AA mutation field ---\n",
        "def extract_all_mutation_positions(mutation_str):\n",
        "    if pd.isna(mutation_str):\n",
        "        return []\n",
        "    mutations = [m.strip() for m in mutation_str.split('|')]\n",
        "    positions = []\n",
        "    for m in mutations:\n",
        "        match = re.search(r'(\\d+)', m)\n",
        "        if match:\n",
        "            positions.append(int(match.group(1)))\n",
        "    return positions\n",
        "\n",
        "# --- Main processing ---\n",
        "summary = []\n",
        "total_mutations_all = 0\n",
        "genes_with_binding = 0\n",
        "genes_without_binding = 0\n",
        "\n",
        "for idx, row in df.iterrows():\n",
        "    gene = row['GENE_NAME']\n",
        "    uniprot = row['UniProt_ID']\n",
        "    mutation_str = row['MUTATION_AA']\n",
        "\n",
        "    # Extract mutations\n",
        "    mutation_positions = extract_all_mutation_positions(mutation_str)\n",
        "    total_mutations = len(mutation_positions)\n",
        "    total_mutations_all += total_mutations\n",
        "\n",
        "    # Extract binding positions\n",
        "    binding_positions = []\n",
        "    for col in position_cols:\n",
        "        binding_positions.extend(parse_position(row[col]))\n",
        "    binding_positions = set(binding_positions)\n",
        "\n",
        "    # Match mutations to binding positions\n",
        "    in_binding = [pos for pos in mutation_positions if pos in binding_positions]\n",
        "    binding_count = len(in_binding)\n",
        "    non_binding_count = total_mutations - binding_count\n",
        "    binding_percentage = (binding_count / total_mutations) * 100 if total_mutations > 0 else 0\n",
        "\n",
        "    if binding_count > 0:\n",
        "        genes_with_binding += 1\n",
        "    else:\n",
        "        genes_without_binding += 1\n",
        "\n",
        "    summary.append({\n",
        "        \"GENE_NAME\": gene,\n",
        "        \"UniProt_ID\": uniprot,\n",
        "        \"Total_Mutations\": total_mutations,\n",
        "        \"In_Binding\": binding_count,\n",
        "        \"Outside_Binding\": non_binding_count,\n",
        "        \"Binding_Percentage\": round(binding_percentage, 2)\n",
        "    })\n",
        "\n",
        "# Save results\n",
        "summary_df = pd.DataFrame(summary)\n",
        "summary_df.to_csv(\"per_gene_binding_mutation_mapping.csv\", index=False)\n"
      ]
    },
    {
      "cell_type": "code",
      "execution_count": null,
      "metadata": {
        "colab": {
          "base_uri": "https://localhost:8080/",
          "height": 534
        },
        "id": "WJi3ODuHznzW",
        "outputId": "1a140fc9-a1b4-4e29-b6c1-c5ad4222a32f"
      },
      "outputs": [
        {
          "name": "stdout",
          "output_type": "stream",
          "text": [
            "Total entries (genes): 2412\n",
            "Total extracted mutations: 844,538\n",
            "Mutations in binding regions: 16,612\n",
            "Mutations outside binding regions: 827,926\n",
            "Percentage in binding regions: 1.97%\n"
          ]
        },
        {
          "data": {
            "image/png": "[encoded data removed]",
            "text/plain": [
              "<Figure size 600x600 with 1 Axes>"
            ]
          },
          "metadata": {},
          "output_type": "display_data"
        }
      ],
      "source": [
        "import pandas as pd\n",
        "import matplotlib.pyplot as plt\n",
        "\n",
        "# Load the per-gene summary file\n",
        "df = pd.read_csv(\"per_gene_binding_mutation_mapping.csv\")\n",
        "\n",
        "# Total mutation stats\n",
        "total_genes = len(df)\n",
        "total_mutations = df['Total_Mutations'].sum()\n",
        "total_binding = df['In_Binding'].sum()\n",
        "total_non_binding = df['Outside_Binding'].sum()\n",
        "binding_percentage = (total_binding / total_mutations) * 100 if total_mutations else 0\n",
        "\n",
        "# Print summary\n",
        "print(f\"Total entries (genes): {total_genes}\")\n",
        "print(f\"Total extracted mutations: {total_mutations:,}\")\n",
        "print(f\"Mutations in binding regions: {total_binding:,}\")\n",
        "print(f\"Mutations outside binding regions: {total_non_binding:,}\")\n",
        "print(f\"Percentage in binding regions: {binding_percentage:.2f}%\")\n",
        "\n",
        "# Plot pie chart\n",
        "plt.figure(figsize=(6, 6))\n",
        "plt.pie(\n",
        "    [total_binding, total_non_binding],\n",
        "    labels=['Binding Region', 'Non-Binding Region'],\n",
        "    autopct='%1.1f%%',\n",
        "    colors=['#66c2a5', '#fc8d62']\n",
        ")\n",
        "plt.title('Total Mutation Mapping: Binding vs Non-Binding')\n",
        "plt.tight_layout()\n",
        "plt.show()\n"
      ]
    }
  ],
  "metadata": {
    "colab": {
      "provenance": []
    },
    "kernelspec": {
      "display_name": "Python 3",
      "name": "python3"
    },
    "language_info": {
      "name": "python"
    }
  },
  "nbformat": 4,
  "nbformat_minor": 0
}
